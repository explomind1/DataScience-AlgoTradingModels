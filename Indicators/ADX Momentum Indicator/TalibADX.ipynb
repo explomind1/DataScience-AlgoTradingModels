{
 "cells": [
  {
   "cell_type": "code",
   "execution_count": 1,
   "metadata": {},
   "outputs": [],
   "source": [
    "\n",
    "import pandas as pd \n",
    "import numpy as np\n",
    "import yfinance\n",
    "from IPython.display import HTML\n",
    "import random\n",
    "#from ipynb.fs.full.Functions1 import hide_toggle\n",
    "#from operator import itemgetter \n",
    "import matplotlib.dates as mpl_dates\n",
    "import matplotlib.pyplot as plt\n",
    "from matplotlib import gridspec\n",
    "%matplotlib inline\n",
    "#from mpl_finance import candlestick_ohlc\n",
    "from mplfinance.original_flavor import candlestick_ohlc\n",
    "import pandas_datareader as pdr\n",
    "import datetime as dt\n",
    "import talib\n",
    "from itertools import compress\n",
    "#from ipynb.fs.full.Hide import hide_toggle # this function has to be in the same directory!\n",
    "# pip install finta!!! the only site that has inverse fisher transform!"
   ]
  },
  {
   "cell_type": "code",
   "execution_count": 2,
   "metadata": {},
   "outputs": [
    {
     "data": {
      "text/html": [
       "<div>\n",
       "<style scoped>\n",
       "    .dataframe tbody tr th:only-of-type {\n",
       "        vertical-align: middle;\n",
       "    }\n",
       "\n",
       "    .dataframe tbody tr th {\n",
       "        vertical-align: top;\n",
       "    }\n",
       "\n",
       "    .dataframe thead th {\n",
       "        text-align: right;\n",
       "    }\n",
       "</style>\n",
       "<table border=\"1\" class=\"dataframe\">\n",
       "  <thead>\n",
       "    <tr style=\"text-align: right;\">\n",
       "      <th></th>\n",
       "      <th>Date</th>\n",
       "      <th>Open</th>\n",
       "      <th>High</th>\n",
       "      <th>Low</th>\n",
       "      <th>Close</th>\n",
       "    </tr>\n",
       "    <tr>\n",
       "      <th>Date</th>\n",
       "      <th></th>\n",
       "      <th></th>\n",
       "      <th></th>\n",
       "      <th></th>\n",
       "      <th></th>\n",
       "    </tr>\n",
       "  </thead>\n",
       "  <tbody>\n",
       "    <tr>\n",
       "      <th>2020-11-02</th>\n",
       "      <td>18568.0</td>\n",
       "      <td>1872.900024</td>\n",
       "      <td>1894.699951</td>\n",
       "      <td>1872.900024</td>\n",
       "      <td>1890.400024</td>\n",
       "    </tr>\n",
       "    <tr>\n",
       "      <th>2020-11-03</th>\n",
       "      <td>18569.0</td>\n",
       "      <td>1891.500000</td>\n",
       "      <td>1908.500000</td>\n",
       "      <td>1891.500000</td>\n",
       "      <td>1908.500000</td>\n",
       "    </tr>\n",
       "    <tr>\n",
       "      <th>2020-11-04</th>\n",
       "      <td>18570.0</td>\n",
       "      <td>1893.800049</td>\n",
       "      <td>1907.000000</td>\n",
       "      <td>1885.300049</td>\n",
       "      <td>1894.599976</td>\n",
       "    </tr>\n",
       "    <tr>\n",
       "      <th>2020-11-05</th>\n",
       "      <td>18571.0</td>\n",
       "      <td>1901.699951</td>\n",
       "      <td>1948.000000</td>\n",
       "      <td>1901.699951</td>\n",
       "      <td>1945.300049</td>\n",
       "    </tr>\n",
       "    <tr>\n",
       "      <th>2020-11-06</th>\n",
       "      <td>18572.0</td>\n",
       "      <td>1940.800049</td>\n",
       "      <td>1958.800049</td>\n",
       "      <td>1940.800049</td>\n",
       "      <td>1950.300049</td>\n",
       "    </tr>\n",
       "    <tr>\n",
       "      <th>...</th>\n",
       "      <td>...</td>\n",
       "      <td>...</td>\n",
       "      <td>...</td>\n",
       "      <td>...</td>\n",
       "      <td>...</td>\n",
       "    </tr>\n",
       "    <tr>\n",
       "      <th>2021-02-01</th>\n",
       "      <td>18659.0</td>\n",
       "      <td>1866.599976</td>\n",
       "      <td>1871.900024</td>\n",
       "      <td>1850.000000</td>\n",
       "      <td>1860.800049</td>\n",
       "    </tr>\n",
       "    <tr>\n",
       "      <th>2021-02-02</th>\n",
       "      <td>18660.0</td>\n",
       "      <td>1859.599976</td>\n",
       "      <td>1861.300049</td>\n",
       "      <td>1827.599976</td>\n",
       "      <td>1830.500000</td>\n",
       "    </tr>\n",
       "    <tr>\n",
       "      <th>2021-02-03</th>\n",
       "      <td>18661.0</td>\n",
       "      <td>1834.800049</td>\n",
       "      <td>1842.400024</td>\n",
       "      <td>1829.800049</td>\n",
       "      <td>1832.199951</td>\n",
       "    </tr>\n",
       "    <tr>\n",
       "      <th>2021-02-04</th>\n",
       "      <td>18662.0</td>\n",
       "      <td>1832.199951</td>\n",
       "      <td>1832.199951</td>\n",
       "      <td>1782.800049</td>\n",
       "      <td>1788.900024</td>\n",
       "    </tr>\n",
       "    <tr>\n",
       "      <th>2021-02-05</th>\n",
       "      <td>18663.0</td>\n",
       "      <td>1794.300049</td>\n",
       "      <td>1813.500000</td>\n",
       "      <td>1790.900024</td>\n",
       "      <td>1810.900024</td>\n",
       "    </tr>\n",
       "  </tbody>\n",
       "</table>\n",
       "<p>64 rows × 5 columns</p>\n",
       "</div>"
      ],
      "text/plain": [
       "               Date         Open         High          Low        Close\n",
       "Date                                                                   \n",
       "2020-11-02  18568.0  1872.900024  1894.699951  1872.900024  1890.400024\n",
       "2020-11-03  18569.0  1891.500000  1908.500000  1891.500000  1908.500000\n",
       "2020-11-04  18570.0  1893.800049  1907.000000  1885.300049  1894.599976\n",
       "2020-11-05  18571.0  1901.699951  1948.000000  1901.699951  1945.300049\n",
       "2020-11-06  18572.0  1940.800049  1958.800049  1940.800049  1950.300049\n",
       "...             ...          ...          ...          ...          ...\n",
       "2021-02-01  18659.0  1866.599976  1871.900024  1850.000000  1860.800049\n",
       "2021-02-02  18660.0  1859.599976  1861.300049  1827.599976  1830.500000\n",
       "2021-02-03  18661.0  1834.800049  1842.400024  1829.800049  1832.199951\n",
       "2021-02-04  18662.0  1832.199951  1832.199951  1782.800049  1788.900024\n",
       "2021-02-05  18663.0  1794.300049  1813.500000  1790.900024  1810.900024\n",
       "\n",
       "[64 rows x 5 columns]"
      ]
     },
     "execution_count": 2,
     "metadata": {},
     "output_type": "execute_result"
    }
   ],
   "source": [
    "symbol =\"GC=F\"\n",
    "num_name= symbol.split(' ') \n",
    "data_frames_separate = []\n",
    "for i in num_name:\n",
    "        ticker = yfinance.Ticker(i)\n",
    "        data=ticker.history(interval='1d',start=\"2020-11-01\",end=\"2021-02-06\")\n",
    "        data['Date'] = pd.to_datetime(data.index) # just to crate another column for date!!!\n",
    "        data['Date'] = data['Date'].apply(mpl_dates.date2num)\n",
    "        data = data.loc[:,['Date', 'Open', 'High', 'Low', 'Close']]\n",
    "        ohlc_data= data.loc[:,['Date', 'Open', 'High', 'Low', 'Close']].values\n",
    "        data_frames_separate.append(data)\n",
    "\n",
    "data_frames_separate[0]"
   ]
  },
  {
   "cell_type": "code",
   "execution_count": 3,
   "metadata": {},
   "outputs": [
    {
     "data": {
      "text/plain": [
       "<AxesSubplot:xlabel='Date'>"
      ]
     },
     "execution_count": 3,
     "metadata": {},
     "output_type": "execute_result"
    },
    {
     "data": {
      "image/png": "[encoded data removed]",
      "text/plain": [
       "<Figure size 864x720 with 1 Axes>"
      ]
     },
     "metadata": {
      "needs_background": "light"
     },
     "output_type": "display_data"
    }
   ],
   "source": [
    "data_frames_separate[0]['avg'] = talib.ADX(data_frames_separate[0]['High'],data_frames_separate[0]['Low'], data_frames_separate[0]['Close'], timeperiod=20)\n",
    "data_frames_separate[0][['avg']].plot(figsize=(12,10))"
   ]
  },
  {
   "cell_type": "code",
   "execution_count": null,
   "metadata": {},
   "outputs": [],
   "source": []
  }
 ],
 "metadata": {
  "kernelspec": {
   "display_name": "Python 3",
   "language": "python",
   "name": "python3"
  },
  "language_info": {
   "codemirror_mode": {
    "name": "ipython",
    "version": 3
   },
   "file_extension": ".py",
   "mimetype": "text/x-python",
   "name": "python",
   "nbconvert_exporter": "python",
   "pygments_lexer": "ipython3",
   "version": "3.7.3"
  }
 },
 "nbformat": 4,
 "nbformat_minor": 4
}
