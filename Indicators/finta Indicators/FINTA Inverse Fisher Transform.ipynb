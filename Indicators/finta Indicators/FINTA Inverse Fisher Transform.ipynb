{
 "cells": [
  {
   "cell_type": "code",
   "execution_count": null,
   "metadata": {},
   "outputs": [],
   "source": [
    "https://github.com/peerchemist/finta#:~:text=FinTA%20(Financial%20Technical%20Analysis),indicators%20may%20not%20be%20accurate.\n",
    "    \n",
    "    \n",
    "    \n",
    "    \n",
    "    #pip install finta --do it in virtual env!\n",
    "    https://www.reddit.com/r/algotrading/comments/ejveio/which_python_library_best_for_getting_technical/\n",
    "        "
   ]
  }
 ],
 "metadata": {
  "kernelspec": {
   "display_name": "Python 3",
   "language": "python",
   "name": "python3"
  },
  "language_info": {
   "codemirror_mode": {
    "name": "ipython",
    "version": 3
   },
   "file_extension": ".py",
   "mimetype": "text/x-python",
   "name": "python",
   "nbconvert_exporter": "python",
   "pygments_lexer": "ipython3",
   "version": "3.7.3"
  }
 },
 "nbformat": 4,
 "nbformat_minor": 4
}
