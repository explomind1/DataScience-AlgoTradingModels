{
 "cells": [
  {
   "cell_type": "code",
   "execution_count": 2,
   "metadata": {},
   "outputs": [],
   "source": [
    "import pandas as pd \n",
    "import numpy as np\n",
    "import yfinance\n",
    "from IPython.display import HTML\n",
    "import random\n",
    "#from operator import itemgetter \n",
    "import matplotlib.dates as mpl_dates\n",
    "import matplotlib.pyplot as plt\n",
    "%matplotlib inline\n",
    "#from mpl_finance import candlestick_ohlc\n",
    "from mplfinance.original_flavor import candlestick_ohlc\n",
    "import pandas_datareader as pdr\n",
    "import datetime as dt\n",
    "import talib\n",
    "#example of how u import from another file: from ipynb.fs.full.Functions import hide_toggle !"
   ]
  },
  {
   "cell_type": "code",
   "execution_count": 3,
   "metadata": {},
   "outputs": [],
   "source": [
    "#EACH Cell corresponds to a different project or theme!"
   ]
  },
  {
   "cell_type": "code",
   "execution_count": null,
   "metadata": {},
   "outputs": [],
   "source": []
  },
  {
   "cell_type": "code",
   "execution_count": null,
   "metadata": {},
   "outputs": [],
   "source": []
  },
  {
   "cell_type": "code",
   "execution_count": null,
   "metadata": {},
   "outputs": [],
   "source": []
  },
  {
   "cell_type": "code",
   "execution_count": 4,
   "metadata": {
    "tags": [
     "Hiding_Cells"
    ]
   },
   "outputs": [
    {
     "data": {
      "text/html": [
       "\n",
       "        <script>\n",
       "            function code_toggle_7638695323392309562() {\n",
       "                $('div.cell.code_cell.rendered.selected').find('div.input').toggle();\n",
       "            }\n",
       "\n",
       "            \n",
       "        </script>\n",
       "\n",
       "        <a href=\"javascript:code_toggle_7638695323392309562()\">Toggle show/hide</a>\n",
       "    "
      ],
      "text/plain": [
       "<IPython.core.display.HTML object>"
      ]
     },
     "execution_count": 4,
     "metadata": {},
     "output_type": "execute_result"
    }
   ],
   "source": [
    "\n",
    "def hide_toggle(for_next=False):\n",
    "    this_cell = \"\"\"$('div.cell.code_cell.rendered.selected')\"\"\"\n",
    "    next_cell = this_cell + '.next()'\n",
    "\n",
    "    toggle_text = 'Toggle show/hide'  # text shown on toggle link\n",
    "    target_cell = this_cell  # target cell to control with toggle\n",
    "    js_hide_current = ''  # bit of JS to permanently hide code in current cell (only when toggling next cell)\n",
    "\n",
    "    if for_next:\n",
    "        target_cell = next_cell\n",
    "        toggle_text += ' next cell'\n",
    "        js_hide_current = this_cell + '.find(\"div.input\").hide();'\n",
    "\n",
    "    js_f_name = 'code_toggle_{}'.format(str(random.randint(1,2**64)))\n",
    "\n",
    "    html = \"\"\"\n",
    "        <script>\n",
    "            function {f_name}() {{\n",
    "                {cell_selector}.find('div.input').toggle();\n",
    "            }}\n",
    "\n",
    "            {js_hide_current}\n",
    "        </script>\n",
    "\n",
    "        <a href=\"javascript:{f_name}()\">{toggle_text}</a>\n",
    "    \"\"\".format(\n",
    "        f_name=js_f_name,\n",
    "        cell_selector=target_cell,\n",
    "        js_hide_current=js_hide_current, \n",
    "        toggle_text=toggle_text\n",
    "    )\n",
    "\n",
    "    return HTML(html)\n",
    "hide_toggle()"
   ]
  },
  {
   "cell_type": "code",
   "execution_count": 6,
   "metadata": {},
   "outputs": [
    {
     "data": {
      "text/html": [
       "\n",
       "        <script>\n",
       "            function code_toggle_16031701177444019679() {\n",
       "                $('div.cell.code_cell.rendered.selected').find('div.input').toggle();\n",
       "            }\n",
       "\n",
       "            \n",
       "        </script>\n",
       "\n",
       "        <a href=\"javascript:code_toggle_16031701177444019679()\">Toggle show/hide</a>\n",
       "    "
      ],
      "text/plain": [
       "<IPython.core.display.HTML object>"
      ]
     },
     "execution_count": 6,
     "metadata": {},
     "output_type": "execute_result"
    }
   ],
   "source": [
    "def isSupport(df,i):\n",
    "  support = df['Low'][i] < df['Low'][i-1]  and df['Low'][i] < df['Low'][i+1] \\\n",
    "  and df['Low'][i+1] < df['Low'][i+2] and df['Low'][i-1] < df['Low'][i-2]\n",
    "\n",
    "  return support\n",
    "\n",
    "def isResistance(df,i):\n",
    "  resistance = df['High'][i] > df['High'][i-1]  and df['High'][i] > df['High'][i+1] \\\n",
    "  and df['High'][i+1] > df['High'][i+2] and df['High'][i-1] > df['High'][i-2] \n",
    "\n",
    "  return resistance\n",
    "\n",
    "def isFarFromLevel(l,num):\n",
    "\n",
    "  return np.sum([abs(l-x) < s[num]  for x in levels[num]]) == 0\n",
    "\n",
    "def meanCandleValue(): # not exactly a function:)\n",
    "    s=[]\n",
    "    for num in range(len(num_name)):\n",
    "         s.append(np.mean(data_frames_separate[num]['High'] - data_frames_separate[num]['Low']))\n",
    "    s\n",
    "    \n",
    "def plot_all(num):\n",
    "  fig, ax = plt.subplots()\n",
    "\n",
    "  candlestick_ohlc(ax,ohlc_data,width=0.6, \\\n",
    "                   colorup='green', colordown='red', alpha=0.8)\n",
    "\n",
    "  date_format = mpl_dates.DateFormatter('%d %b %Y')\n",
    "  ax.xaxis.set_major_formatter(date_format)\n",
    "  fig.autofmt_xdate()\n",
    "  plt.title(num_name[num])\n",
    "  fig.tight_layout()\n",
    "\n",
    "  for level in levels[num]:\n",
    "    plt.hlines(level[1],xmin=data_frames_separate[num]['Date'][level[0]],\\\n",
    "               xmax=max(data_frames_separate[num]['Date']),colors='blue')\n",
    "\n",
    "\n",
    "hide_toggle()"
   ]
  },
  {
   "cell_type": "code",
   "execution_count": 7,
   "metadata": {},
   "outputs": [
    {
     "data": {
      "text/html": [
       "\n",
       "        <script>\n",
       "            function code_toggle_4412955053485167308() {\n",
       "                $('div.cell.code_cell.rendered.selected').find('div.input').toggle();\n",
       "            }\n",
       "\n",
       "            \n",
       "        </script>\n",
       "\n",
       "        <a href=\"javascript:code_toggle_4412955053485167308()\">Toggle show/hide</a>\n",
       "    "
      ],
      "text/plain": [
       "<IPython.core.display.HTML object>"
      ]
     },
     "execution_count": 7,
     "metadata": {},
     "output_type": "execute_result"
    }
   ],
   "source": [
    "def chunks(lst, n):\n",
    "    \"\"\"Yield successive n-sized chunks from lst.\"\"\"\n",
    "    for i in range(0, len(lst), n):\n",
    "        yield lst[i:i + n]\n",
    "        \n",
    "def portfolio_input():\n",
    "    global portfolio_size\n",
    "    portfolio_size = input(\"Enter the value of your portfolio:\")\n",
    "\n",
    "    try:\n",
    "        val = float(portfolio_size)\n",
    "    except ValueError:\n",
    "        print(\"That's not a number! \\n Try again:\")\n",
    "        portfolio_size = input(\"Enter the value of your portfolio:\")\n",
    "hide_toggle()"
   ]
  },
  {
   "cell_type": "code",
   "execution_count": 13,
   "metadata": {},
   "outputs": [
    {
     "data": {
      "text/html": [
       "\n",
       "        <script>\n",
       "            function code_toggle_17755096712460616099() {\n",
       "                $('div.cell.code_cell.rendered.selected').find('div.input').toggle();\n",
       "            }\n",
       "\n",
       "            \n",
       "        </script>\n",
       "\n",
       "        <a href=\"javascript:code_toggle_17755096712460616099()\">Toggle show/hide</a>\n",
       "    "
      ],
      "text/plain": [
       "<IPython.core.display.HTML object>"
      ]
     },
     "execution_count": 13,
     "metadata": {},
     "output_type": "execute_result"
    }
   ],
   "source": [
    "#CODEACADEMY!\n",
    "# real_estate_investment_trust_analysis\n",
    "def simple_rate_of_return(adj_closings):\n",
    "    daily_simple_ror = np.diff(adj_closings)/adj_closings[:-1]\n",
    "    return daily_simple_ror\n",
    "def log_returns(adj_closings):\n",
    "    log_adj_closings = np.log(adj_closings)\n",
    "    daily_log_returns = np.diff(log_adj_closings)\n",
    "    return daily_log_returns\n",
    "def annualize_log_return(daily_log_returns):\n",
    "    average_daily_log_returns = np.mean(daily_log_returns)\n",
    "    annualized_log_return = average_daily_log_returns*250\n",
    "    return annualized_log_return\n",
    "\n",
    "hide_toggle()"
   ]
  },
  {
   "cell_type": "code",
   "execution_count": 12,
   "metadata": {},
   "outputs": [
    {
     "data": {
      "text/html": [
       "\n",
       "        <script>\n",
       "            function code_toggle_3110776083174580615() {\n",
       "                $('div.cell.code_cell.rendered.selected').find('div.input').toggle();\n",
       "            }\n",
       "\n",
       "            \n",
       "        </script>\n",
       "\n",
       "        <a href=\"javascript:code_toggle_3110776083174580615()\">Toggle show/hide</a>\n",
       "    "
      ],
      "text/plain": [
       "<IPython.core.display.HTML object>"
      ]
     },
     "execution_count": 12,
     "metadata": {},
     "output_type": "execute_result"
    }
   ],
   "source": [
    "# coded_correspondence Project\n",
    "# both of these functions need the strings `alphabet` and `punctuation` defined before being run\n",
    "def decoder(message, offset):\n",
    "    translated_message = \"\"\n",
    "    for letter in message:\n",
    "        if not letter in punctuation:\n",
    "            letter_value = alphabet.find(letter)\n",
    "            translated_message += alphabet[(letter_value + offset) % 26]\n",
    "        else:\n",
    "            translated_message += letter\n",
    "    return translated_message\n",
    "    \n",
    "def coder(message, offset):\n",
    "    translated_message = \"\"\n",
    "    for letter in message:\n",
    "        if not letter in punctuation:\n",
    "            letter_value = alphabet.find(letter)\n",
    "            translated_message += alphabet[(letter_value - offset) % 26]\n",
    "        else:\n",
    "            translated_message += letter\n",
    "    return translated_message\n",
    "\n",
    "def vigenere_decoder(coded_message, keyword):\n",
    "    letter_pointer = 0\n",
    "    keyword_final = ''\n",
    "    for i in range(0,len(coded_message)):\n",
    "        if coded_message[i] in punctuation:\n",
    "            keyword_final += coded_message[i]\n",
    "        else:\n",
    "            keyword_final += keyword[letter_pointer]\n",
    "            letter_pointer = (letter_pointer+1)%len(keyword)\n",
    "    translated_message = ''\n",
    "    for i in range(0,len(coded_message)):    \n",
    "        if not coded_message[i] in punctuation:\n",
    "            ln = alphabet.find(coded_message[i]) - alphabet.find(keyword_final[i])\n",
    "            translated_message += alphabet[ln % 26]\n",
    "        else:\n",
    "            translated_message += coded_message[i]\n",
    "    return translated_message\n",
    "\n",
    "message = \"dfc aruw fsti gr vjtwhr wznj? vmph otis! cbx swv jipreneo uhllj kpi rahjib eg fjdkwkedhmp!\"\n",
    "keyword = \"friends\"\n",
    "\n",
    "def vigenere_coder(message, keyword):\n",
    "    letter_pointer = 0\n",
    "    keyword_final = ''\n",
    "    for i in range(0,len(message)):\n",
    "        if message[i] in punctuation:\n",
    "            keyword_final += message[i]\n",
    "        else:\n",
    "            keyword_final += keyword[letter_pointer]\n",
    "            letter_pointer = (letter_pointer+1)%len(keyword)\n",
    "    translated_message = ''\n",
    "    for i in range(0,len(message)):\n",
    "        if message[i] not in punctuation:\n",
    "            ln = alphabet.find(message[i]) + alphabet.find(keyword_final[i])\n",
    "            translated_message += alphabet[ln % 26]\n",
    "        else:\n",
    "            translated_message += message[i]\n",
    "    return translated_message\n",
    "\n",
    "message_for_v = \"thanks for teaching me all these cool ciphers! you really are the best!\"\n",
    "keyword = \"besties\"\n",
    "hide_toggle()"
   ]
  },
  {
   "cell_type": "code",
   "execution_count": 10,
   "metadata": {},
   "outputs": [
    {
     "data": {
      "text/html": [
       "\n",
       "        <script>\n",
       "            function code_toggle_7517979077142235520() {\n",
       "                $('div.cell.code_cell.rendered.selected').find('div.input').toggle();\n",
       "            }\n",
       "\n",
       "            \n",
       "        </script>\n",
       "\n",
       "        <a href=\"javascript:code_toggle_7517979077142235520()\">Toggle show/hide</a>\n",
       "    "
      ],
      "text/plain": [
       "<IPython.core.display.HTML object>"
      ]
     },
     "execution_count": 10,
     "metadata": {},
     "output_type": "execute_result"
    }
   ],
   "source": [
    "\n",
    "#filtering a list of people who will be attending the game night.\n",
    "def add_gamer(gamer, gamers_list):\n",
    "    if gamer.get(\"name\") and gamer.get(\"availability\"):\n",
    "        gamers_list.append(gamer)\n",
    "    else:\n",
    "        print(\"Gamer missing critical information\")\n",
    "        \n",
    "def build_daily_frequency_table():\n",
    "    return {\n",
    "        \"Monday\":    0,\n",
    "        \"Tuesday\":   0,\n",
    "        \"Wednesday\": 0,\n",
    "        \"Thursday\":  0,\n",
    "        \"Friday\":    0,\n",
    "        \"Saturday\":  0,\n",
    "        \"Sunday\":    0,\n",
    "    }\n",
    "\n",
    "#count_availability = build_daily_frequency_table()\n",
    "\n",
    "def calculate_availability(gamers_list, available_frequency):\n",
    "    for gamer in gamers_list:\n",
    "        for day in gamer['availability']:\n",
    "            available_frequency[day] += 1\n",
    "def find_best_night(availability_table):\n",
    "    best_availability = 0\n",
    "    for day, availability in availability_table.items():\n",
    "        if availability > best_availability:\n",
    "            best_night = day\n",
    "            best_availability = availability\n",
    "    return best_night\n",
    "def available_on_night(gamers_list, day):\n",
    "    return [gamer for gamer in gamers_list if day in gamer['availability']]\n",
    "\n",
    "#attending_game_night = available_on_night(gamers, game_night)\n",
    "\n",
    "#print(attending_game_night)\n",
    "\n",
    "def send_email(gamers_who_can_attend, day, game):\n",
    "    for gamer in gamers_who_can_attend:\n",
    "        print(form_email.format(name=gamer['name'], day_of_week=day, game=game))\n",
    "        \n",
    "#send_email(attending_game_night, game_night, \"Abruptly Goblins!\")\n",
    "\n",
    "hide_toggle()"
   ]
  },
  {
   "cell_type": "code",
   "execution_count": 11,
   "metadata": {},
   "outputs": [
    {
     "data": {
      "text/html": [
       "\n",
       "        <script>\n",
       "            function code_toggle_13577296643998259656() {\n",
       "                $('div.cell.code_cell.rendered.selected').find('div.input').toggle();\n",
       "            }\n",
       "\n",
       "            \n",
       "        </script>\n",
       "\n",
       "        <a href=\"javascript:code_toggle_13577296643998259656()\">Toggle show/hide</a>\n",
       "    "
      ],
      "text/plain": [
       "<IPython.core.display.HTML object>"
      ]
     },
     "execution_count": 11,
     "metadata": {},
     "output_type": "execute_result"
    }
   ],
   "source": [
    "\n",
    "#BANK TELLER PROJECT\n",
    "#check_balance definition\n",
    "def check_balance(account_type,checking_balance, savings_balance):\n",
    "    if account_type == \"savings\":\n",
    "        balance = savings_balance \n",
    "    elif account_type == \"checking\":\n",
    "        balance = checking_balance\n",
    "    else:\n",
    "        return acc_error\n",
    "    balance_statement = \"Your \" + account_type + \" balance is \" + str(balance) + \".\\n\"\n",
    "    return balance_statement\n",
    "\n",
    "#deposit function\n",
    "def make_deposit(account_type,amount,checking_balance,savings_balance):\n",
    "    deposit_status = \"\"\n",
    "    if amount > 0:\n",
    "        if account_type == \"savings\":\n",
    "            savings_balance += amount\n",
    "            deposit_status = \"successful\"\n",
    "        elif account_type == \"checking\":\n",
    "            checking_balance += amount\n",
    "            deposit_status = \"successful\"\n",
    "        else:\n",
    "            deposit_status = acc_error\n",
    "    else:\n",
    "        deposit_status = \"Unsuccessful, please enter an amount greater than 0\"\n",
    "    \n",
    "    deposit_statement = \"Deposit of \"+ str(amount) + \" dollars to your \" + account_type + \" account was \" + deposit_status + \".\"\n",
    "\n",
    "    #print deposit statement\n",
    "    print(deposit_statement)\n",
    "    \n",
    "    return savings_balance, checking_balance\n",
    "\n",
    "#withdrawal function\n",
    "def make_withdrawal(account_type,amount,checking_balance,savings_balance):\n",
    "    withdrawal_status = \"\"\n",
    "    fail = \"unsuccessful, please enter amount less than balance\"\n",
    "    if account_type == \"savings\":\n",
    "        if amount <= savings_balance:\n",
    "            savings_balance -= amount\n",
    "            withdrawal_status = \"successful\"\n",
    "        else:\n",
    "            withdrawal_status = fail\n",
    "    elif account_type == \"checking\":\n",
    "        if amount <= checking_balance:\n",
    "            checking_balance -= amount\n",
    "            withdrawal_status = \"successful\"\n",
    "        else:\n",
    "            withdrawal_status = fail\n",
    "    else:\n",
    "        withdrawal_status = acc_error\n",
    "    \n",
    "    withdrawal_statement = \"Withdrawal of \"+ str(amount) + \" from your \" + account_type + \" account was \" + withdrawal_status + \".\"\n",
    "\n",
    "    #print withdrawal statement\n",
    "    print(withdrawal_statement)\n",
    "    \n",
    "    return savings_balance, checking_balance \n",
    "\n",
    "#account transfer\n",
    "def acc_transfer(acc_from,acc_to,amount,checking_balance,savings_balance):\n",
    "    transaction_status = \"\"\n",
    "    trans_error = \"unsuccessful, please enter amount less than \"\n",
    "    if acc_from == \"savings\" and acc_to == \"checking\":\n",
    "        if amount <= savings_balance:\n",
    "            savings_balance -= amount\n",
    "            checking_balance += amount\n",
    "            transaction_status = \"successful\"\n",
    "        else:\n",
    "            transaction_status = trans_error + str(savings_balance)\n",
    "    elif acc_from == \"checking\" and acc_to == \"savings\":\n",
    "        if amount <= checking_balance:\n",
    "            checking_balance -= amount\n",
    "            savings_balance += amount\n",
    "            transaction_status = \"successful\"\n",
    "        else:\n",
    "            transaction_status = trans_error + str(checking_balance)\n",
    "    else:\n",
    "        transaction_status = acc_error\n",
    "    \n",
    "    transaction_statement = \"Transfer of \"+ str(amount) + \" from your \" + acc_from + \" to your \"+ acc_to +\" account was \" + transaction_status + \".\"\n",
    "\n",
    "    #print transfer statement\n",
    "    print(transaction_statement)\n",
    "\n",
    "    return savings_balance, checking_balance\n",
    "hide_toggle()"
   ]
  },
  {
   "cell_type": "code",
   "execution_count": null,
   "metadata": {},
   "outputs": [],
   "source": []
  }
 ],
 "metadata": {
  "kernelspec": {
   "display_name": "Python 3",
   "language": "python",
   "name": "python3"
  },
  "language_info": {
   "codemirror_mode": {
    "name": "ipython",
    "version": 3
   },
   "file_extension": ".py",
   "mimetype": "text/x-python",
   "name": "python",
   "nbconvert_exporter": "python",
   "pygments_lexer": "ipython3",
   "version": "3.7.3"
  }
 },
 "nbformat": 4,
 "nbformat_minor": 4
}
