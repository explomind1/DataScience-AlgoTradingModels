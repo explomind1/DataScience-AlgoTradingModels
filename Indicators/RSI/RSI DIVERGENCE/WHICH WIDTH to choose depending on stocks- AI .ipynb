{
 "cells": [
  {
   "cell_type": "code",
   "execution_count": 1,
   "metadata": {},
   "outputs": [
    {
     "name": "stdout",
     "output_type": "stream",
     "text": [
      "Object `hwo` not found.\n"
     ]
    }
   ],
   "source": [
    "each stock will have its own with size( rsi or macd divergences)??? - the optimization AI hwo??"
   ]
  },
  {
   "cell_type": "code",
   "execution_count": null,
   "metadata": {},
   "outputs": [],
   "source": [
    "each stock will have its own with size( rsi or macd divergences)??? - the optimization AI hwo"
   ]
  },
  {
   "cell_type": "code",
   "execution_count": 2,
   "metadata": {},
   "outputs": [],
   "source": [
    "Which of these parameters to use for these metrics!- for each stock!\n",
    "\n",
    "lower_barrier = 35\n",
    "upper_barrier = 65\n",
    "width = 120\n",
    "holding_period = 30\n"
   ]
  },
  {
   "cell_type": "code",
   "execution_count": null,
   "metadata": {},
   "outputs": [],
   "source": [
    "# imization-cb2b4a29b8ee  - hyper parameter optimization!\n"
   ]
  }
 ],
 "metadata": {
  "kernelspec": {
   "display_name": "Python 3",
   "language": "python",
   "name": "python3"
  },
  "language_info": {
   "codemirror_mode": {
    "name": "ipython",
    "version": 3
   },
   "file_extension": ".py",
   "mimetype": "text/x-python",
   "name": "python",
   "nbconvert_exporter": "python",
   "pygments_lexer": "ipython3",
   "version": "3.7.3"
  }
 },
 "nbformat": 4,
 "nbformat_minor": 4
}
